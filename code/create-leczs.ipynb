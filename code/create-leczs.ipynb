{
 "cells": [
  {
   "cell_type": "code",
   "execution_count": 1,
   "metadata": {},
   "outputs": [
    {
     "data": {
      "text/plain": [
       "'CheckedOut'"
      ]
     },
     "execution_count": 1,
     "metadata": {},
     "output_type": "execute_result"
    }
   ],
   "source": [
    "# import libraries\n",
    "import arcpy, os, sys\n",
    "# check out spatial analyst extension\n",
    "arcpy.CheckOutExtension(\"SPATIAL\")"
   ]
  },
  {
   "cell_type": "code",
   "execution_count": 2,
   "metadata": {},
   "outputs": [],
   "source": [
    "# function to copy output files to disk\n",
    "def copyToDisk(inFile,outFile):\n",
    "    if arcpy.Exists(outFile):\n",
    "        return((1,\"The file: \"+outFile+\" already exists\"))\n",
    "    else:\n",
    "        try:\n",
    "            try:\n",
    "                arcpy.CopyRaster_management(inFile,outFile,\"#\",\"#\",65535,\"#\",\"#\",\"16_BIT_UNSIGNED\")\n",
    "            except:\n",
    "                inFile.save(outFile)\n",
    "            return((1,\"Successfully created \"+outFile))\n",
    "        except:\n",
    "            return((0,arcpy.GetMessages()))"
   ]
  },
  {
   "cell_type": "code",
   "execution_count": 3,
   "metadata": {},
   "outputs": [],
   "source": [
    "# define the LECZ code\n",
    "leczCode=10\n",
    "landCode=31\n",
    "# define input variables\n",
    "inputCoastlinePoly= r'data\\inputs\\lka_admin0_line.shp'# path to some line layer representing the coastline for your AOI\n",
    "inputLandMask=r'data\\inputs\\lka_admin0.tif'# path to some file which represents all of the land areas in your AOI\n",
    "inputDEM= r'data\\inputs\\lka_merit_raw.tif'# path to the DEM data that will be used to create the LECZs\n",
    "# please note that inputLandMask and inputDEM should be in the same extent and cellsize\n",
    "# check if the files exist\n",
    "if not arcpy.Exists(inputCoastlinePoly):print(\"The input file is missing: \"+inputAdminPoly)\n",
    "if not arcpy.Exists(inputLandMask):print(\"The input file is missing: \"+inputLandMask)\n",
    "if not arcpy.Exists(inputDEM):print(\"The input file is missing: \"+inputDEM)\n",
    "# set the processing environments to the extent and cellsize to that of the inputDEM\n",
    "arcpy.env.extent=inputDEM\n",
    "arcpy.env.cellSize=inputDEM"
   ]
  },
  {
   "cell_type": "code",
   "execution_count": 4,
   "metadata": {},
   "outputs": [
    {
     "name": "stdout",
     "output_type": "stream",
     "text": [
      "Successfully created data\\outputs\\intermediate\\lka_merit_reclass_10.tif\n"
     ]
    }
   ],
   "source": [
    "# step 1: extract the input DEM to within the inputLandMask and\n",
    "# reclassify the input DEM into less than or equal to some lecz\n",
    "try:    \n",
    "    rec=arcpy.sa.ExtractByMask(arcpy.sa.Con(arcpy.Raster(inputDEM)>leczCode,landCode,leczCode),inputLandMask)\n",
    "except:\n",
    "    print(arcpy.GetMessages())\n",
    "# copy the output to disk\n",
    "outRec=r'data\\outputs\\intermediate\\lka_merit_reclass_'+str(leczCode)+'.tif'\n",
    "copyResults=copyToDisk(rec,outRec)\n",
    "if copyResults[0]==0:\n",
    "    sys.exit(copyResults[1])\n",
    "else:\n",
    "    print(copyResults[1])"
   ]
  },
  {
   "cell_type": "code",
   "execution_count": 5,
   "metadata": {},
   "outputs": [
    {
     "name": "stdout",
     "output_type": "stream",
     "text": [
      "Successfully created data\\outputs\\intermediate\\lka_merit_region_group_10.tif\n"
     ]
    }
   ],
   "source": [
    "# step 2: region group to identify contiguous regions, but only those areas that are not coded land (31)\n",
    "# build an attribute table on the integer raster that results\n",
    "try:\n",
    "    rg=arcpy.sa.RegionGroup(arcpy.sa.SetNull(arcpy.Raster(rec)==landCode,leczCode),\"EIGHT\",\"WITHIN\")\n",
    "    arcpy.BuildRasterAttributeTable_management(rg)\n",
    "except:\n",
    "    print(arcpy.GetMessages())\n",
    "# copy the output to disk    \n",
    "outRg=r'data\\outputs\\intermediate\\lka_merit_region_group_'+str(leczCode)+'.tif'\n",
    "copyResults=copyToDisk(rg,outRg)\n",
    "if copyResults[0]==0:\n",
    "    sys.exit(copyResults[1])\n",
    "else:\n",
    "    print(copyResults[1])"
   ]
  },
  {
   "cell_type": "code",
   "execution_count": 6,
   "metadata": {},
   "outputs": [],
   "source": [
    "# step 3: convert the region group raster to polygon and select by location \n",
    "# those areas which intersect the coastline\n",
    "outRgPoly=r'data\\outputs\\intermediate\\lka_merit_region_group_poly_'+str(leczCode)+'.shp'\n",
    "if arcpy.Exists(outRgPoly):\n",
    "    print(\"The output polygon \"+outRgPoly+\" already exists\")\n",
    "else:\n",
    "    try:\n",
    "        arcpy.RasterToPolygon_conversion(rg,outRgPoly,\"NO_SIMPLIFY\",\"VALUE\")\n",
    "    except:\n",
    "        print(arcpy.GetMessages())\n",
    "try:\n",
    "    # ESRI selection tools require layers as input\n",
    "    targetLyr=\"inputcoastlinepolylyr\"\n",
    "    arcpy.MakeFeatureLayer_management(inputCoastlinePoly,targetLyr)\n",
    "    selectLyr=\"rgPolylyr\"\n",
    "    arcpy.MakeFeatureLayer_management(outRgPoly,selectLyr)\n",
    "    arcpy.SelectLayerByLocation_management(selectLyr,\"INTERSECT\",targetLyr)\n",
    "    selectedPolys=r'data\\outputs\\intermediate\\lka_merit_region_group_poly_selection_'+str(leczCode)+'.shp'\n",
    "    if arcpy.Exists(selectedPolys):\n",
    "        print(\"The output polygon \"+selectedPolys+\" already exists\")\n",
    "    else:\n",
    "        arcpy.CopyFeatures_management(selectLyr,selectedPolys)\n",
    "        arcpy.AddField_management(selectedPolys,\"lecz\",\"Short\")\n",
    "        arcpy.CalculateField_management(selectedPolys,\"lecz\",leczCode,\"PYTHON\")\n",
    "except:\n",
    "    print(arcpy.GetMessages())\n",
    "        \n",
    "    "
   ]
  },
  {
   "cell_type": "code",
   "execution_count": 7,
   "metadata": {},
   "outputs": [],
   "source": [
    "# step 4: rasterize the selected region grouped polygons\n",
    "outRgRaster=r'data\\outputs\\intermediate\\lka_merit_lecz_'+str(leczCode)+'.tif'\n",
    "if arcpy.Exists(outRgRaster):\n",
    "        print(\"The file: \"+outRgRaster+\" already exists\")\n",
    "else:\n",
    "    try:        \n",
    "        arcpy.PolygonToRaster_conversion(selectedPolys,\"lecz\",outRgRaster)            \n",
    "    except:\n",
    "        print(arcpy.GetMessages())"
   ]
  },
  {
   "cell_type": "code",
   "execution_count": 8,
   "metadata": {},
   "outputs": [
    {
     "name": "stdout",
     "output_type": "stream",
     "text": [
      "Successfully created data\\outputs\\lka_merit_lecz_10.tif\n"
     ]
    }
   ],
   "source": [
    "# step 5: finally combine the LECZ with land area values\n",
    "outLECZRaster=r'data\\outputs\\lka_merit_lecz_'+str(leczCode)+'.tif'\n",
    "if arcpy.Exists(outLECZRaster):\n",
    "        print(\"The file: \"+outLECZRaster+\" already exists\")\n",
    "else:\n",
    "    try:  \n",
    "        # if the outRgRaster is null, but outRec is not, code as land (31)\n",
    "        # otherwise code as the leczCode\n",
    "        leczFinal=arcpy.sa.Con(arcpy.sa.IsNull(outRgRaster)==1,\n",
    "                               arcpy.sa.Con(arcpy.sa.IsNull(outRec)==0,31),\n",
    "                               leczCode)            \n",
    "    except:\n",
    "        print(arcpy.GetMessages())\n",
    "# copy the output to disk\n",
    "copyResults=copyToDisk(leczFinal,outLECZRaster)\n",
    "if copyResults[0]==0:\n",
    "    sys.exit(copyResults[1])\n",
    "else:\n",
    "    print(copyResults[1])"
   ]
  }
 ],
 "metadata": {
  "kernelspec": {
   "display_name": "Python 3",
   "language": "python",
   "name": "python3"
  },
  "language_info": {
   "codemirror_mode": {
    "name": "ipython",
    "version": 3
   },
   "file_extension": ".py",
   "mimetype": "text/x-python",
   "name": "python",
   "nbconvert_exporter": "python",
   "pygments_lexer": "ipython3",
   "version": "3.7.10"
  }
 },
 "nbformat": 4,
 "nbformat_minor": 4
}
